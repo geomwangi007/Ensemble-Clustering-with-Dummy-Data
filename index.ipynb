{
 "cells": [
  {
   "cell_type": "code",
   "execution_count": 1,
   "metadata": {},
   "outputs": [],
   "source": [
    "from sklearn.datasets import make_blobs\n",
    "import pandas as pd\n",
    "import matplotlib.pyplot as plt\n",
    "from sklearn.decomposition import PCA\n",
    "from sklearn.metrics import silhouette_score, adjusted_rand_score\n",
    "import numpy as np\n",
    "from scipy.stats import mode\n",
    "from sklearn.cluster import KMeans, AgglomerativeClustering, DBSCAN"
   ]
  },
  {
   "cell_type": "code",
   "execution_count": null,
   "metadata": {},
   "outputs": [],
   "source": [
    "# Generate synthetic data with 4 clusters\n",
    "data, labels = make_blobs(n_samples=1000, centers=4, cluster_std=1.0, random_state=42)\n",
    "\n",
    "# Convert to DataFrame\n",
    "df = pd.DataFrame(data, columns=['Feature_1', 'Feature_2'])\n",
    "df['True_Label'] = labels\n",
    "\n",
    "# Visualize the generated data\n",
    "plt.scatter(df['Feature_1'], df['Feature_2'], c=df['True_Label'], cmap='viridis', s=50)\n",
    "plt.title(\"Generated Data with True Labels\")\n",
    "plt.xlabel(\"Feature_1\")\n",
    "plt.ylabel(\"Feature_2\")\n",
    "plt.show()"
   ]
  }
 ],
 "metadata": {
  "kernelspec": {
   "display_name": "learn-env",
   "language": "python",
   "name": "python3"
  },
  "language_info": {
   "codemirror_mode": {
    "name": "ipython",
    "version": 3
   },
   "file_extension": ".py",
   "mimetype": "text/x-python",
   "name": "python",
   "nbconvert_exporter": "python",
   "pygments_lexer": "ipython3",
   "version": "3.8.5"
  }
 },
 "nbformat": 4,
 "nbformat_minor": 2
}
